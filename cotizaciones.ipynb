{
  "nbformat": 4,
  "nbformat_minor": 0,
  "metadata": {
    "colab": {
      "provenance": [],
      "authorship_tag": "ABX9TyMj+EDhGGmg1ADQoTGx+3KY",
      "include_colab_link": true
    },
    "kernelspec": {
      "name": "python3",
      "display_name": "Python 3"
    },
    "language_info": {
      "name": "python"
    }
  },
  "cells": [
    {
      "cell_type": "markdown",
      "metadata": {
        "id": "view-in-github",
        "colab_type": "text"
      },
      "source": [
        "<a href=\"https://colab.research.google.com/github/nvrancovich/futbol/blob/main/cotizaciones.ipynb\" target=\"_parent\"><img src=\"https://colab.research.google.com/assets/colab-badge.svg\" alt=\"Open In Colab\"/></a>"
      ]
    },
    {
      "cell_type": "code",
      "execution_count": 40,
      "metadata": {
        "colab": {
          "base_uri": "https://localhost:8080/"
        },
        "id": "G5-77g_NG69i",
        "outputId": "edff3ae6-aedd-4842-fcca-04aa83390efd"
      },
      "outputs": [
        {
          "output_type": "stream",
          "name": "stdout",
          "text": [
            "Mounted at /content/gdrive/\n"
          ]
        }
      ],
      "source": [
        "from google.colab import drive\n",
        "\n",
        "drive.mount('/content/gdrive/', force_remount=True)"
      ]
    },
    {
      "cell_type": "code",
      "execution_count": 2,
      "metadata": {
        "id": "4HwsasT3DcnV"
      },
      "outputs": [],
      "source": [
        "import warnings\n",
        "warnings.simplefilter(action='ignore', category=FutureWarning)"
      ]
    },
    {
      "cell_type": "code",
      "source": [
        "import pandas as pd\n",
        "import requests"
      ],
      "metadata": {
        "id": "VBaIsoEGDlwI"
      },
      "execution_count": 3,
      "outputs": []
    },
    {
      "cell_type": "code",
      "source": [
        "pd.set_option('display.max_rows', None)"
      ],
      "metadata": {
        "id": "efcFu70vjEpk"
      },
      "execution_count": 37,
      "outputs": []
    },
    {
      "cell_type": "code",
      "source": [
        "urls = {\n",
        "    'https://www.transfermarkt.co/liga-profesional-de-futbol/startseite/wettbewerb/AR1N/plus/?saison_id=2016':'2016-2017',\n",
        "    'https://www.transfermarkt.co/liga-profesional-de-futbol/startseite/wettbewerb/AR1N/plus/?saison_id=2017':'2017-2018',\n",
        "    'https://www.transfermarkt.co/liga-profesional-de-futbol/startseite/wettbewerb/AR1N/plus/?saison_id=2018':'2018-2019',\n",
        "    'https://www.transfermarkt.co/liga-profesional-de-futbol/startseite/wettbewerb/AR1N/plus/?saison_id=2019':'2019-2020',\n",
        "    'https://www.transfermarkt.co/liga-profesional-de-futbol/startseite/wettbewerb/AR1N/plus/?saison_id=2020':'2021',\n",
        "    'https://www.transfermarkt.co/liga-profesional-de-futbol/startseite/wettbewerb/AR1N/plus/?saison_id=2021':'2022'\n",
        "}"
      ],
      "metadata": {
        "id": "A9icg9zaYj_4"
      },
      "execution_count": 44,
      "outputs": []
    },
    {
      "cell_type": "code",
      "source": [
        "headers = {'User-Agent': \n",
        "           'Mozilla/5.0 (X11; Linux x86_64) AppleWebKit/537.36 (KHTML, like Gecko) Chrome/47.0.2526.106 Safari/537.36'}"
      ],
      "metadata": {
        "id": "Wj8J3HXGFPPA"
      },
      "execution_count": 22,
      "outputs": []
    },
    {
      "cell_type": "code",
      "source": [
        "temporadas = []\n",
        "\n",
        "for url in urls:\n",
        "  req = requests.get(url, headers=headers)\n",
        "\n",
        "  temporada = urls[url]\n",
        "  print(temporada)\n",
        "\n",
        "  df = pd.read_html(req.content.decode(\"utf-8\"))[1]\n",
        "\n",
        "  def formato_valor(valor):\n",
        "    if ' mill. €' in valor:\n",
        "      valor = int(float(valor.replace(' mill. €','').replace(',','.'))*1000000)\n",
        "    elif ' mil €' in valor:\n",
        "      valor = int(float(valor.replace(' mil €','').replace(',','.'))*100000)\n",
        "    return valor\n",
        "\n",
        "  df['temporada'] = temporada\n",
        "  df = df[['temporada','Club.1','ø-Valor de mercado']][:-1]\n",
        "  df = df.rename(columns={'Club.1':'club','ø-Valor de mercado':'valor_mercado_€'})\n",
        "  df['valor_mercado_€'] = df['valor_mercado_€'].apply(formato_valor)\n",
        "\n",
        "  clubes = {\n",
        "      'Sarmiento':'CA Sarmiento (Junín)', \n",
        "      'Gimnasia ELP':'Club de Gimnasia y Esgrima La Plata', \n",
        "      'Rosario Cent':'CA Rosario Central', \n",
        "      'Racing Club':'Racing Club',\n",
        "      'Tucumán':'Club Atlético Tucumán', \n",
        "      'San Lorenzo':'CA San Lorenzo de Almagro', \n",
        "      'Godoy Cruz':'CD Godoy Cruz Antonio Tomba', \n",
        "      'Tigre':'Club Atlético Tigre', \n",
        "      'Belgrano':'Club Atlético Belgrano', \n",
        "      'CA Unión':'Club Atlético Unión', \n",
        "      'River Plate':'CA River Plate', \n",
        "      'Lanús':'Club Atlético Lanús', \n",
        "      'Aldosivi':'Club Atlético Aldosivi',\n",
        "      'Patronato':'Club Atlético Patronato', \n",
        "      'Banfield':'CA Banfield',\n",
        "      'Defensa y Just':'CSD Defensa y Justicia', \n",
        "      'Independiente':'CA Independiente', \n",
        "      'CA Huracán':'CA Huracán',\n",
        "      \"Newell's OB\":\"CA Newell's Old Boys\", \n",
        "      'Vélez Sarsf':'CA Vélez Sarsfield', \n",
        "      'Estudiantes':'Club Estudiantes de La Plata', \n",
        "      'Boca Juniors':'CA Boca Juniors',\n",
        "      'Talleres':'Club Atlético Talleres', \n",
        "      'Arsenal':'Arsenal Fútbol Club', \n",
        "      'Colón':'Club Atlético Colón', \n",
        "      'Argentinos Jun':'AA Argentinos Juniors', \n",
        "      'CC Córdoba':'CA Central Córdoba (SdE)', \n",
        "      'Platense':'CA Platense',\n",
        "      'Barracas Central':'CA Barracas Central',\n",
        "      'Temperley':'Club Atlético Temperley', \n",
        "      'Club Olimpo':'Club Olimpo', \n",
        "      'San Martín SJ':'CA San Martín (San Juan)', \n",
        "      'Rafaela':'Atlético de Rafaela', \n",
        "      'Chacarita':'CA Chacarita Juniors',\n",
        "      'San Martin':'CA San Martín (Tucumán)', \n",
        "      'Quilmes':'Quilmes Atlético Club'\n",
        "  }   \n",
        "\n",
        "  def nombres_clubes(club):\n",
        "    for value in clubes:\n",
        "      if club == clubes[value]:\n",
        "        return value\n",
        "\n",
        "  df['club'] = df['club'].apply(nombres_clubes)\n",
        "\n",
        "  temporadas.append(df)"
      ],
      "metadata": {
        "colab": {
          "base_uri": "https://localhost:8080/"
        },
        "id": "jlCJjNfHDor4",
        "outputId": "03fca085-2551-4f47-eada-159cb6e29e7d"
      },
      "execution_count": 45,
      "outputs": [
        {
          "output_type": "stream",
          "name": "stdout",
          "text": [
            "2016-2017\n",
            "2017-2018\n",
            "2018-2019\n",
            "2019-2020\n",
            "2021\n",
            "2022\n"
          ]
        }
      ]
    },
    {
      "cell_type": "code",
      "source": [
        "df = pd.concat(temporadas)"
      ],
      "metadata": {
        "id": "zRWRl69Ldbwu"
      },
      "execution_count": 46,
      "outputs": []
    },
    {
      "cell_type": "code",
      "source": [
        "df.to_csv('/content/gdrive/MyDrive/proyectos/futbol/cotizaciones.csv', index=False)"
      ],
      "metadata": {
        "id": "TtfLX7Pih6PO"
      },
      "execution_count": 47,
      "outputs": []
    }
  ]
}