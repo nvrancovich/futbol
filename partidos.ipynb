{
  "nbformat": 4,
  "nbformat_minor": 0,
  "metadata": {
    "colab": {
      "provenance": [],
      "authorship_tag": "ABX9TyOInwKvEn4O82W7HqRu0OZx",
      "include_colab_link": true
    },
    "kernelspec": {
      "name": "python3",
      "display_name": "Python 3"
    },
    "language_info": {
      "name": "python"
    }
  },
  "cells": [
    {
      "cell_type": "markdown",
      "metadata": {
        "id": "view-in-github",
        "colab_type": "text"
      },
      "source": [
        "<a href=\"https://colab.research.google.com/github/nvrancovich/futbol/blob/main/partidos.ipynb\" target=\"_parent\"><img src=\"https://colab.research.google.com/assets/colab-badge.svg\" alt=\"Open In Colab\"/></a>"
      ]
    },
    {
      "cell_type": "code",
      "source": [
        "from google.colab import drive\n",
        "\n",
        "drive.mount('/content/gdrive/', force_remount=True)"
      ],
      "metadata": {
        "colab": {
          "base_uri": "https://localhost:8080/"
        },
        "id": "yopnDAXgeXOT",
        "outputId": "0f9c5ed6-d9d8-4285-f0c8-a8a3399714e4"
      },
      "execution_count": null,
      "outputs": [
        {
          "output_type": "stream",
          "name": "stdout",
          "text": [
            "Mounted at /content/gdrive/\n"
          ]
        }
      ]
    },
    {
      "cell_type": "code",
      "source": [
        "import warnings\n",
        "warnings.simplefilter(action='ignore', category=FutureWarning)"
      ],
      "metadata": {
        "id": "5nrI654aRMdb"
      },
      "execution_count": 51,
      "outputs": []
    },
    {
      "cell_type": "code",
      "execution_count": null,
      "metadata": {
        "id": "TjOMrpd9PScI"
      },
      "outputs": [],
      "source": [
        "import pandas as pd\n",
        "import numpy as np\n",
        "import requests\n",
        "from bs4 import BeautifulSoup"
      ]
    },
    {
      "cell_type": "code",
      "source": [
        "fixtures_urls = [\n",
        "    'https://fbref.com/es/comps/21/2016-2017/horario/Marcadores-y-partidos-de-2016-2017-Primera-Division',\n",
        "    'https://fbref.com/es/comps/21/2017-2018/horario/Marcadores-y-partidos-de-2017-2018-Primera-Division',\n",
        "    'https://fbref.com/es/comps/21/2018-2019/horario/Marcadores-y-partidos-de-2018-2019-Primera-Division',\n",
        "    'https://fbref.com/es/comps/21/2019-2020/horario/Marcadores-y-partidos-de-2019-2020-Primera-Division',\n",
        "    'https://fbref.com/es/comps/21/2021/horario/Marcadores-y-partidos-de-2021-Primera-Division',\n",
        "    'https://fbref.com/es/comps/21/2022/horario/Marcadores-y-partidos-de-2022-Primera-Division'\n",
        "]"
      ],
      "metadata": {
        "id": "X73fR-qKPtOW"
      },
      "execution_count": null,
      "outputs": []
    },
    {
      "cell_type": "code",
      "source": [
        "temporadas = []\n",
        "\n",
        "for url in fixtures_urls:\n",
        "\n",
        "  temporada = url.split('/')[6]\n",
        "\n",
        "  print(f'Descargando los partidos de la temporada {temporada}')\n",
        "\n",
        "  df_fixture = pd.read_html(url)[0].dropna(how='all')\n",
        "  df_fixture = df_fixture[['Sem.','Día','Fecha','Hora','Local','Visitante','Sedes','Árbitro']].rename(str.lower, axis='columns')\n",
        "  df_fixture = df_fixture.rename({'sem.':'semana','día':'dia','árbitro':'arbitro'},axis='columns')\n",
        "  df_fixture['semana'] = df_fixture['semana'].dropna().astype(int)\n",
        "  df_fixture['temporada'] = temporada\n",
        "\n",
        "  reqs = requests.get(url)\n",
        "  soup = BeautifulSoup(reqs.text, 'html.parser')\n",
        "\n",
        "  partidos_urls = []\n",
        "\n",
        "  if temporada == '2021' or temporada == '2022':\n",
        "    for url in soup.find_all('a'):\n",
        "        if str(url.get('href')).endswith(f'{temporada}-Primera-Division') and '/partidos/' in str(url.get('href')):\n",
        "          partidos_urls.append(('https://fbref.com/'+str(url.get('href'))))\n",
        "    partidos_urls = list(set(partidos_urls))\n",
        "  \n",
        "  if temporada == '2016-2017':\n",
        "    año_1, año_2 = temporada.split('-')[0], temporada.split('-')[1]\n",
        "    for url in soup.find_all('a'):\n",
        "        if (str(url.get('href')).endswith(f'{año_1}-Primera-Division') or str(url.get('href')).endswith(f'{año_2}-Primera-Division')) and '/partidos/' in str(url.get('href')):\n",
        "          partidos_urls.append(('https://fbref.com/'+str(url.get('href'))))\n",
        "    partidos_urls = list(set(partidos_urls))\n",
        "\n",
        "  if temporada == '2017-2018' or temporada == '2018-2019' or temporada =='2019-2020':\n",
        "    año_1, año_2 = temporada.split('-')[0], temporada.split('-')[1]\n",
        "    for url in soup.find_all('a'):\n",
        "        if (str(url.get('href')).endswith(f'{año_1}-Superliga-Argentina') or str(url.get('href')).endswith(f'{año_2}-Superliga-Argentina')) and '/partidos/' in str(url.get('href')):\n",
        "          partidos_urls.append(('https://fbref.com/'+str(url.get('href'))))\n",
        "    partidos_urls = list(set(partidos_urls))\n",
        "\n",
        "  print(len(df_fixture))\n",
        "  print(len(partidos_urls))\n",
        "\n",
        "  import time\n",
        "\n",
        "\n",
        "  partidos = []\n",
        "  contador = 0\n",
        "  demora = 2\n",
        "\n",
        "  print('Demora aproximada: '+str(round((len(partidos_urls)*demora*1.3)/60,0))+' minutos')\n",
        "\n",
        "  for url in partidos_urls:\n",
        "    time.sleep(demora)\n",
        "\n",
        "    print(url)\n",
        "    df = pd.read_html(url)\n",
        "    contador += 1\n",
        "    \n",
        "    local_df = df[3]\n",
        "    visitante_df = df[5]\n",
        "\n",
        "    try:\n",
        "      local_posesion, visitante_posesion = int(df[2][df[2].head(1).columns[0][0]].values[0][0][:2])/100, int(df[2][df[2].head(1).columns[1][0]].values[0][0][:2])/100\n",
        "    except:\n",
        "      local_posesion, visitante_posesion = np.NaN, np.NaN\n",
        "      \n",
        "    datos = {\n",
        "        'local':df[2].columns[0][0],\n",
        "        'visitante':df[2].columns[1][0],\n",
        "\n",
        "        'local_goles':local_df.tail(1)['Rendimiento']['Gls.'].values[0],\n",
        "        'visitante_goles':visitante_df.tail(1)['Rendimiento']['Gls.'].values[0],\n",
        "        'local_posesion':local_posesion,\n",
        "        'visitante_posesion':visitante_posesion,\n",
        "\n",
        "        'local_asistencias':local_df.tail(1)['Rendimiento']['Ass'].values[0],\n",
        "        'local_goles_penal':local_df.tail(1)['Rendimiento']['TP'].values[0],\n",
        "        'local_penales':local_df.tail(1)['Rendimiento']['TPint'].values[0],\n",
        "        'local_disparos':local_df.tail(1)['Rendimiento']['Dis'].values[0],\n",
        "        'local_disparos_puerta':local_df.tail(1)['Rendimiento']['DaP'].values[0],\n",
        "        'local_amarillas':local_df.tail(1)['Rendimiento']['TA'].values[0],\n",
        "        'local_rojas':local_df.tail(1)['Rendimiento']['TR'].values[0],\n",
        "        'local_faltas_cometidas':local_df.tail(1)['Rendimiento']['Fls'].values[0],\n",
        "        'local_faltas_recibidas':local_df.tail(1)['Rendimiento']['FR'].values[0],\n",
        "        'local_posiciones_adelantedas':local_df.tail(1)['Rendimiento']['PA'].values[0],\n",
        "        'local_pases_cruzados':local_df.tail(1)['Rendimiento']['Pcz'].values[0],\n",
        "        'local_derribos':local_df.tail(1)['Rendimiento']['TklG'].values[0],\n",
        "        'local_intercepciones':local_df.tail(1)['Rendimiento']['Int'].values[0],\n",
        "        'local_goles_contra':local_df.tail(1)['Rendimiento']['GC'].values[0],\n",
        "\n",
        "        \n",
        "        'visitante_asistencias':visitante_df.tail(1)['Rendimiento']['Ass'].values[0],\n",
        "        'visitante_goles_penal':visitante_df.tail(1)['Rendimiento']['TP'].values[0],\n",
        "        'visitante_penales':visitante_df.tail(1)['Rendimiento']['TPint'].values[0],\n",
        "        'visitante_disparos':visitante_df.tail(1)['Rendimiento']['Dis'].values[0],\n",
        "        'visitante_disparos_puerta':visitante_df.tail(1)['Rendimiento']['DaP'].values[0],\n",
        "        'visitante_amarillas':visitante_df.tail(1)['Rendimiento']['TA'].values[0],\n",
        "        'visitante_rojas':visitante_df.tail(1)['Rendimiento']['TR'].values[0],\n",
        "        'visitante_faltas_cometidas':visitante_df.tail(1)['Rendimiento']['Fls'].values[0],\n",
        "        'visitante_faltas_recibidas':visitante_df.tail(1)['Rendimiento']['FR'].values[0],\n",
        "        'visitante_posiciones_adelantedas':visitante_df.tail(1)['Rendimiento']['PA'].values[0],\n",
        "        'visitante_pases_cruzados':visitante_df.tail(1)['Rendimiento']['Pcz'].values[0],\n",
        "        'visitante_derribos':visitante_df.tail(1)['Rendimiento']['TklG'].values[0],\n",
        "        'visitante_intercepciones':visitante_df.tail(1)['Rendimiento']['Int'].values[0],\n",
        "        'visitante_goles_contra':visitante_df.tail(1)['Rendimiento']['GC'].values[0],\n",
        "    }\n",
        "    \n",
        "    partidos.append(datos)\n",
        "\n",
        "  df_partidos = pd.DataFrame(partidos)\n",
        "\n",
        "  df = pd.merge(df_fixture, df_partidos,  how='left', on=['local','visitante'])\n",
        "\n",
        "  df['resultado'] = np.where(df['local_goles'] > df['visitante_goles'], 'local', np.where(df['local_goles'] < df['visitante_goles'],'visitante','empate'))\n",
        "\n",
        "\n",
        "  df['local_puntos'] = np.where(df['resultado'] == 'local', 3, np.where(df['resultado'] == 'visitante', 0, 1))\n",
        "  df['visitante_puntos'] = np.where(df['resultado'] == 'visitante', 3, np.where(df['resultado'] == 'local', 0, 1))\n",
        "\n",
        "  df_puntos_local = df[['semana','local','local_puntos']].rename(columns={'local':'equipo','local_puntos':'puntos'})\n",
        "  df_puntos_visitante = df[['semana','visitante','visitante_puntos']].rename(columns={'visitante':'equipo','visitante_puntos':'puntos'})\n",
        "  df_puntos = pd.concat([df_puntos_local, df_puntos_visitante])\n",
        "\n",
        "  semanas = []\n",
        "\n",
        "  for semana in list(df_puntos['semana'].unique()):\n",
        "    df_semana = df_puntos[df_puntos['semana'] < semana].groupby(['equipo']).sum().sort_values('puntos').reset_index()\n",
        "    df_semana['semana'] = semana\n",
        "    semanas.append(df_semana)\n",
        "\n",
        "  df_semanas = pd.concat(semanas)\n",
        "\n",
        "  merge = pd.merge(df, df_semanas, how='left', left_on=['semana','local'], right_on=['semana','equipo']).rename(columns={'puntos':'local_puntos_acumulados'}).drop(columns='equipo')\n",
        "  merge = pd.merge(merge, df_semanas, how='left', left_on=['semana','visitante'], right_on=['semana','equipo']).rename(columns={'puntos':'visitante_puntos_acumulados'}).drop(columns='equipo')\n",
        "  merge['local_puntos_acumulados'] = merge['local_puntos_acumulados'].fillna(0).astype(int)\n",
        "  merge['visitante_puntos_acumulados'] = merge['visitante_puntos_acumulados'].fillna(0).astype(int)\n",
        "  merge.drop(columns = ['local_puntos','visitante_puntos'])\n",
        "\n",
        "  temporadas.append(merge)"
      ],
      "metadata": {
        "id": "C0ghr_v2Pwnu"
      },
      "execution_count": null,
      "outputs": []
    },
    {
      "cell_type": "code",
      "source": [
        "df = pd.concat(temporadas).reset_index(drop=True).drop(columns=['local_puntos','visitante_puntos'])"
      ],
      "metadata": {
        "id": "DUZgmmcaVjEx"
      },
      "execution_count": null,
      "outputs": []
    },
    {
      "cell_type": "code",
      "source": [
        "df = df[[\n",
        "    'semana', 'dia', 'fecha', 'hora', 'local', 'visitante', 'sedes',\n",
        "    'arbitro', 'temporada', 'resultado','local_posesion', 'visitante_posesion',\n",
        "    'local_goles', 'visitante_goles','local_asistencias',\n",
        "    'local_goles_penal', 'local_penales', 'local_disparos',\n",
        "    'local_disparos_puerta', 'local_amarillas', 'local_rojas',\n",
        "    'local_faltas_cometidas', 'local_faltas_recibidas',\n",
        "    'local_posiciones_adelantedas', 'local_pases_cruzados',\n",
        "    'local_derribos', 'local_intercepciones', 'local_goles_contra',\n",
        "    'visitante_asistencias', 'visitante_goles_penal', 'visitante_penales',\n",
        "    'visitante_disparos', 'visitante_disparos_puerta',\n",
        "    'visitante_amarillas', 'visitante_rojas', 'visitante_faltas_cometidas',\n",
        "    'visitante_faltas_recibidas', 'visitante_posiciones_adelantedas',\n",
        "    'visitante_pases_cruzados', 'visitante_derribos',\n",
        "    'visitante_intercepciones', 'visitante_goles_contra', \n",
        "    'local_puntos_acumulados', 'visitante_puntos_acumulados'\n",
        "]]\n",
        "\n",
        "df = df.rename(columns={'local_puntos_acumulados':'local_puntos_acumulados_temporada','visitante_puntos_acumulados':'visitante_puntos_acumulados_temporada'})"
      ],
      "metadata": {
        "id": "5tHlAFpA6dpk"
      },
      "execution_count": null,
      "outputs": []
    },
    {
      "cell_type": "code",
      "source": [
        "len(df)"
      ],
      "metadata": {
        "colab": {
          "base_uri": "https://localhost:8080/"
        },
        "id": "CAfHmNpdmZ2A",
        "outputId": "78a8f6ed-de2e-4f7f-9867-07a2bca2d3fa"
      },
      "execution_count": null,
      "outputs": [
        {
          "output_type": "execute_result",
          "data": {
            "text/plain": [
              "2132"
            ]
          },
          "metadata": {},
          "execution_count": 46
        }
      ]
    },
    {
      "cell_type": "code",
      "source": [
        "df.to_csv('/content/gdrive/MyDrive/proyectos/futbol/partidos_csv', index=False)"
      ],
      "metadata": {
        "id": "26ABXUa7eM9-"
      },
      "execution_count": 49,
      "outputs": []
    },
    {
      "cell_type": "code",
      "source": [
        "df.info()"
      ],
      "metadata": {
        "colab": {
          "base_uri": "https://localhost:8080/"
        },
        "id": "VFoxV5PImdPw",
        "outputId": "0a735355-ed5f-46ad-ae7f-05a170409531"
      },
      "execution_count": 50,
      "outputs": [
        {
          "output_type": "stream",
          "name": "stdout",
          "text": [
            "<class 'pandas.core.frame.DataFrame'>\n",
            "RangeIndex: 2132 entries, 0 to 2131\n",
            "Data columns (total 44 columns):\n",
            " #   Column                                 Non-Null Count  Dtype  \n",
            "---  ------                                 --------------  -----  \n",
            " 0   semana                                 2132 non-null   int64  \n",
            " 1   dia                                    2132 non-null   object \n",
            " 2   fecha                                  2132 non-null   object \n",
            " 3   hora                                   2132 non-null   object \n",
            " 4   local                                  2132 non-null   object \n",
            " 5   visitante                              2132 non-null   object \n",
            " 6   sedes                                  2132 non-null   object \n",
            " 7   arbitro                                2132 non-null   object \n",
            " 8   temporada                              2132 non-null   object \n",
            " 9   resultado                              2132 non-null   object \n",
            " 10  local_posesion                         2129 non-null   float64\n",
            " 11  visitante_posesion                     2129 non-null   float64\n",
            " 12  local_goles                            2132 non-null   int64  \n",
            " 13  visitante_goles                        2132 non-null   int64  \n",
            " 14  local_asistencias                      2132 non-null   int64  \n",
            " 15  local_goles_penal                      2132 non-null   int64  \n",
            " 16  local_penales                          2132 non-null   int64  \n",
            " 17  local_disparos                         2132 non-null   int64  \n",
            " 18  local_disparos_puerta                  2132 non-null   int64  \n",
            " 19  local_amarillas                        2132 non-null   int64  \n",
            " 20  local_rojas                            2132 non-null   int64  \n",
            " 21  local_faltas_cometidas                 2132 non-null   int64  \n",
            " 22  local_faltas_recibidas                 2132 non-null   int64  \n",
            " 23  local_posiciones_adelantedas           2132 non-null   int64  \n",
            " 24  local_pases_cruzados                   2132 non-null   int64  \n",
            " 25  local_derribos                         2132 non-null   int64  \n",
            " 26  local_intercepciones                   2132 non-null   int64  \n",
            " 27  local_goles_contra                     2132 non-null   int64  \n",
            " 28  visitante_asistencias                  2132 non-null   int64  \n",
            " 29  visitante_goles_penal                  2132 non-null   int64  \n",
            " 30  visitante_penales                      2132 non-null   int64  \n",
            " 31  visitante_disparos                     2132 non-null   int64  \n",
            " 32  visitante_disparos_puerta              2132 non-null   int64  \n",
            " 33  visitante_amarillas                    2132 non-null   int64  \n",
            " 34  visitante_rojas                        2132 non-null   int64  \n",
            " 35  visitante_faltas_cometidas             2132 non-null   int64  \n",
            " 36  visitante_faltas_recibidas             2132 non-null   int64  \n",
            " 37  visitante_posiciones_adelantedas       2132 non-null   int64  \n",
            " 38  visitante_pases_cruzados               2132 non-null   int64  \n",
            " 39  visitante_derribos                     2132 non-null   int64  \n",
            " 40  visitante_intercepciones               2132 non-null   int64  \n",
            " 41  visitante_goles_contra                 2132 non-null   int64  \n",
            " 42  local_puntos_acumulados_temporada      2132 non-null   int64  \n",
            " 43  visitante_puntos_acumulados_temporada  2132 non-null   int64  \n",
            "dtypes: float64(2), int64(33), object(9)\n",
            "memory usage: 733.0+ KB\n"
          ]
        }
      ]
    }
  ]
}